{
 "cells": [
  {
   "cell_type": "markdown",
   "id": "7b6f1ce3-cca4-45e2-b536-ce55dbb6c0fe",
   "metadata": {},
   "source": [
    "## Load the book"
   ]
  },
  {
   "cell_type": "code",
   "execution_count": 11,
   "id": "e52d06b0-3fda-48b4-ad62-a437fca7a095",
   "metadata": {},
   "outputs": [],
   "source": [
    "with open(\"miracle_in_the_andes.txt\", \"r\", encoding=\"utf-8\") as file:\n",
    "    book = file.read()"
   ]
  },
  {
   "cell_type": "markdown",
   "id": "02e016f4-6887-4f53-beec-6c61080ba049",
   "metadata": {},
   "source": [
    "## The most used words (non-articles)"
   ]
  },
  {
   "cell_type": "code",
   "execution_count": 12,
   "id": "57f527f3-7e4a-485e-8938-1893171b9275",
   "metadata": {},
   "outputs": [],
   "source": [
    "import re\n",
    "\n",
    "pattern = re.compile(\"[a-zA-Z]+\")\n",
    "matches = re.findall(pattern, book.lower())"
   ]
  },
  {
   "cell_type": "code",
   "execution_count": 13,
   "id": "99ca21be-691a-4bdb-b96b-3037e26b18b6",
   "metadata": {},
   "outputs": [],
   "source": [
    "d = {}\n",
    "for word in matches:\n",
    "    if word in d.keys():\n",
    "        d[word] += 1\n",
    "    else:\n",
    "        d[word] = 1"
   ]
  },
  {
   "cell_type": "code",
   "execution_count": 14,
   "id": "5dfe3e2b-b69b-4be8-8016-e1b744ef2b73",
   "metadata": {},
   "outputs": [
    {
     "data": {
      "text/plain": [
       "[(5346, 'the'), (2795, 'and'), (2729, 'i'), (2400, 'to'), (2060, 'of')]"
      ]
     },
     "execution_count": 14,
     "metadata": {},
     "output_type": "execute_result"
    }
   ],
   "source": [
    "d_list = [(value, key) for (key, value) in d.items()]\n",
    "d_list.sort(reverse=True)\n",
    "d_list[:5]"
   ]
  },
  {
   "cell_type": "code",
   "execution_count": null,
   "id": "fca94c4e-e2c2-49e0-b116-9c8887a79d79",
   "metadata": {},
   "outputs": [],
   "source": [
    "# pip install nltk\n",
    "# nltk.download('stopwords')"
   ]
  },
  {
   "cell_type": "code",
   "execution_count": 15,
   "id": "149a120b-59da-4c8e-a24d-2bad6de4cf01",
   "metadata": {},
   "outputs": [
    {
     "data": {
      "text/plain": [
       "['i', 'me', 'my', 'myself', 'we']"
      ]
     },
     "execution_count": 15,
     "metadata": {},
     "output_type": "execute_result"
    }
   ],
   "source": [
    "import nltk\n",
    "from nltk.corpus import stopwords\n",
    "\n",
    "en_stopwords = stopwords.words(\"english\")\n",
    "en_stopwords[:5]"
   ]
  },
  {
   "cell_type": "code",
   "execution_count": 19,
   "id": "22d13b7b-97b8-4e6d-814a-545f16b12329",
   "metadata": {},
   "outputs": [
    {
     "data": {
      "text/plain": [
       "[('would', 575),\n",
       " ('us', 519),\n",
       " ('said', 292),\n",
       " ('roberto', 284),\n",
       " ('could', 252),\n",
       " ('one', 249),\n",
       " ('snow', 227),\n",
       " ('mountain', 183),\n",
       " ('time', 182),\n",
       " ('like', 165)]"
      ]
     },
     "execution_count": 19,
     "metadata": {},
     "output_type": "execute_result"
    }
   ],
   "source": [
    "filtered_words = []\n",
    "for count, word in d_list:\n",
    "    if word not in en_stopwords:\n",
    "        filtered_words.append((word, count))\n",
    "filtered_words[:10]"
   ]
  },
  {
   "cell_type": "markdown",
   "id": "46ae0588-f5be-4280-b20c-a5a2614f1f60",
   "metadata": {},
   "source": [
    "## Sentiment anylasis: What is the most positive and the most negative chapter?"
   ]
  },
  {
   "cell_type": "markdown",
   "id": "b8598720-68a2-49cf-bc0f-e8be795445ad",
   "metadata": {},
   "source": [
    "### Example"
   ]
  },
  {
   "cell_type": "code",
   "execution_count": null,
   "id": "7ac48946-9220-478d-a1da-00daae9e643b",
   "metadata": {},
   "outputs": [],
   "source": [
    "from nltk.sentiment import SentimentIntensityAnalyzer\n",
    "# nltk.download('vader_lexicon')"
   ]
  },
  {
   "cell_type": "code",
   "execution_count": 41,
   "id": "f1f6f5f2-3f53-4c06-8cdf-4d2dc9ae5e4b",
   "metadata": {},
   "outputs": [],
   "source": [
    "analyzer = SentimentIntensityAnalyzer()"
   ]
  },
  {
   "cell_type": "code",
   "execution_count": 53,
   "id": "d22509bf-3494-4091-923b-8f1d9a04128d",
   "metadata": {},
   "outputs": [
    {
     "data": {
      "text/plain": [
       "{'neg': 0.0, 'neu': 0.331, 'pos': 0.669, 'compound': 0.8442}"
      ]
     },
     "execution_count": 53,
     "metadata": {},
     "output_type": "execute_result"
    }
   ],
   "source": [
    "scores = analyzer.polarity_scores(\"Look a these beautiful trees, I love them.\")\n",
    "scores"
   ]
  },
  {
   "cell_type": "code",
   "execution_count": 51,
   "id": "efba5518-0ec3-4bc4-83e5-de189660d129",
   "metadata": {},
   "outputs": [
    {
     "name": "stdout",
     "output_type": "stream",
     "text": [
      "This text is positive.\n"
     ]
    }
   ],
   "source": [
    "if scores[\"pos\"] > scores[\"neg\"]:\n",
    "    print(\"This text is positive.\")\n",
    "else:\n",
    "    print(\"This text is negative.\")"
   ]
  },
  {
   "cell_type": "markdown",
   "id": "5612e720-4ef3-4bd9-9288-d54d8ffebcbb",
   "metadata": {},
   "source": [
    "### Chapters analysis"
   ]
  },
  {
   "cell_type": "code",
   "execution_count": 67,
   "id": "7df55012-b3cf-4a6b-8f0c-491dac9af1e2",
   "metadata": {},
   "outputs": [],
   "source": [
    "pattern = re.compile(\"Chapter [0-9]+\")\n",
    "chapters = re.split(pattern, book)"
   ]
  },
  {
   "cell_type": "code",
   "execution_count": 68,
   "id": "1a492fe3-b673-4363-ba59-3af6de872ea5",
   "metadata": {},
   "outputs": [],
   "source": [
    "chapters.remove(\"\")"
   ]
  },
  {
   "cell_type": "code",
   "execution_count": 69,
   "id": "3aaacc8c-6cba-4619-afa1-41a29f24add3",
   "metadata": {},
   "outputs": [
    {
     "name": "stdout",
     "output_type": "stream",
     "text": [
      "{'neg': 0.061, 'neu': 0.779, 'pos': 0.16, 'compound': 1.0}\n",
      "{'neg': 0.12, 'neu': 0.726, 'pos': 0.154, 'compound': 0.9991}\n",
      "{'neg': 0.145, 'neu': 0.751, 'pos': 0.105, 'compound': -0.9999}\n",
      "{'neg': 0.141, 'neu': 0.721, 'pos': 0.138, 'compound': -0.9963}\n",
      "{'neg': 0.118, 'neu': 0.742, 'pos': 0.141, 'compound': 0.9997}\n",
      "{'neg': 0.124, 'neu': 0.761, 'pos': 0.115, 'compound': -0.9979}\n",
      "{'neg': 0.136, 'neu': 0.761, 'pos': 0.103, 'compound': -0.9999}\n",
      "{'neg': 0.12, 'neu': 0.786, 'pos': 0.094, 'compound': -0.9998}\n",
      "{'neg': 0.097, 'neu': 0.824, 'pos': 0.079, 'compound': -0.9996}\n",
      "{'neg': 0.086, 'neu': 0.733, 'pos': 0.181, 'compound': 1.0}\n"
     ]
    }
   ],
   "source": [
    "for chap in chapters:\n",
    "    scores = analyzer.polarity_scores(chap)\n",
    "    print(scores)"
   ]
  },
  {
   "cell_type": "code",
   "execution_count": null,
   "id": "250907f2-b39a-48eb-b0c7-0c4e1a20197a",
   "metadata": {},
   "outputs": [],
   "source": []
  }
 ],
 "metadata": {
  "kernelspec": {
   "display_name": "Python 3 (ipykernel)",
   "language": "python",
   "name": "python3"
  },
  "language_info": {
   "codemirror_mode": {
    "name": "ipython",
    "version": 3
   },
   "file_extension": ".py",
   "mimetype": "text/x-python",
   "name": "python",
   "nbconvert_exporter": "python",
   "pygments_lexer": "ipython3",
   "version": "3.12.0"
  }
 },
 "nbformat": 4,
 "nbformat_minor": 5
}
